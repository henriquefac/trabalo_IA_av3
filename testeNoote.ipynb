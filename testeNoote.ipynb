{
 "cells": [
  {
   "cell_type": "code",
   "execution_count": 5,
   "metadata": {},
   "outputs": [],
   "source": [
    "import numpy as np\n",
    "from classes.modelos.mlp.camada import Camada\n",
    "from classes.modelos.mlp2.network import RedeNeural as RN2\n",
    "from classes.modelos.mlp.rede import RedeNeural as RN1\n",
    "from concurrent.futures import ProcessPoolExecutor\n",
    "from classes.DataHandler.data import DataHandlerMLP\n",
    "from functools import partial"
   ]
  },
  {
   "cell_type": "code",
   "execution_count": null,
   "metadata": {},
   "outputs": [],
   "source": [
    "dh = DataHandlerMLP(r\"C:\\Users\\henri\\Documents\\pythonProjcs\\cadeira_IA_cirilo\\av3\\trabalho\\dados\\spiral.csv\")\n",
    "training, exp = dh.MonteCarlo()\n",
    "x_tra, y_tra = DataHandlerMLP.SepXY(training)\n",
    "x_tes, y_tes = DataHandlerMLP.SepXY(exp)\n",
    "rede = RedeNeural(5e-2,2, [4,4,4,1])\n",
    "rede.Training(x_tra, y_tra, min_erro=5e-9)\n",
    "output = rede.Predict(x_tes)"
   ]
  },
  {
   "cell_type": "code",
   "execution_count": null,
   "metadata": {},
   "outputs": [],
   "source": [
    "import multiprocessing\n",
    "from functools import partial\n",
    "\n",
    "# Exemplo de função de treinamento\n",
    "def training_round(train_data, test_data, _):\n",
    "    try:\n",
    "        x_tra, y_tra = DataHandlerMLP.SepXY(train_data)\n",
    "        x_tes, y_tes = DataHandlerMLP.SepXY(test_data)\n",
    "        rede = RedeNeural(5e-2, 2, [3,3, 1])\n",
    "        rede.Training(x_tra, y_tra, min_erro=5e-6)\n",
    "        output = rede.Predict(x_tes)\n",
    "        return y_tes - output, y_tes\n",
    "    except Exception as e:\n",
    "        print(f\"Erro durante o treinamento: {e}\")\n",
    "        return None\n",
    "\n",
    "# Função principal que executa o treinamento\n",
    "def run_training():\n",
    "    dh = DataHandlerMLP(r\"C:\\Users\\henri\\Documents\\pythonProjcs\\cadeira_IA_cirilo\\av3\\trabalho\\dados\\spiral.csv\")\n",
    "\n",
    "\n",
    "\n",
    "    # Número de rodadas a serem paralelizadas\n",
    "    rounds = 1  # Aumentando para mais rodadas para testar\n",
    "\n",
    "    # Usar Pool do multiprocessing para paralelizar\n",
    "    with multiprocessing.Pool() as pool:\n",
    "        train_data, test_data = dh.MonteCarlo()\n",
    "        \n",
    "        # map aplica a função 'training_func' para cada valor em 'range(rounds)'\n",
    "        results = pool.map(partial(training_round, train_data, test_data), range(rounds))\n",
    "\n",
    "    return results\n",
    "\n",
    "# Chama a função para rodar\n",
    "results = run_training()\n",
    "print(results)\n"
   ]
  },
  {
   "cell_type": "code",
   "execution_count": 2,
   "metadata": {},
   "outputs": [
    {
     "ename": "ValueError",
     "evalue": "matmul: Input operand 1 has a mismatch in its core dimension 0, with gufunc signature (n?,k),(k,m?)->(n?,m?) (size 3 is different from 1)",
     "output_type": "error",
     "traceback": [
      "\u001b[1;31m---------------------------------------------------------------------------\u001b[0m",
      "\u001b[1;31mValueError\u001b[0m                                Traceback (most recent call last)",
      "Cell \u001b[1;32mIn[2], line 9\u001b[0m\n\u001b[0;32m      6\u001b[0m x_tes, y_tes \u001b[38;5;241m=\u001b[39m DataHandlerMLP\u001b[38;5;241m.\u001b[39mSepXY(test_data)\n\u001b[0;32m      8\u001b[0m rede \u001b[38;5;241m=\u001b[39m NeuralNetwork(\u001b[38;5;241m1e-2\u001b[39m, [\u001b[38;5;241m2\u001b[39m,\u001b[38;5;241m2\u001b[39m,\u001b[38;5;241m1\u001b[39m])\n\u001b[1;32m----> 9\u001b[0m \u001b[43mrede\u001b[49m\u001b[38;5;241;43m.\u001b[39;49m\u001b[43mTrain\u001b[49m\u001b[43m(\u001b[49m\u001b[43mx_tra\u001b[49m\u001b[43m,\u001b[49m\u001b[43m \u001b[49m\u001b[43my_tra\u001b[49m\u001b[43m,\u001b[49m\u001b[43m \u001b[49m\u001b[43mmin_error\u001b[49m\u001b[38;5;241;43m=\u001b[39;49m\u001b[38;5;241;43m1e-8\u001b[39;49m\u001b[43m)\u001b[49m\n\u001b[0;32m     10\u001b[0m output \u001b[38;5;241m=\u001b[39m rede\u001b[38;5;241m.\u001b[39mPredict(x_tes)\n\u001b[0;32m     11\u001b[0m results \u001b[38;5;241m=\u001b[39m y_tes \u001b[38;5;241m-\u001b[39m output\n",
      "File \u001b[1;32mc:\\Users\\henri\\Documents\\pythonProjcs\\cadeira_IA_cirilo\\av3\\trabalho\\classes\\modelos\\mlp\\rede.py:255\u001b[0m, in \u001b[0;36mNeuralNetwork.Train\u001b[1;34m(self, x_matriz, y_array, epoch, min_error, paciencia)\u001b[0m\n\u001b[0;32m    253\u001b[0m     last_output \u001b[38;5;241m=\u001b[39m \u001b[38;5;28mself\u001b[39m\u001b[38;5;241m.\u001b[39my[\u001b[38;5;241m-\u001b[39m\u001b[38;5;241m1\u001b[39m][:\u001b[38;5;241m-\u001b[39m\u001b[38;5;241m1\u001b[39m, :]  \u001b[38;5;66;03m# Exclui o viés para a camada de saída\u001b[39;00m\n\u001b[0;32m    254\u001b[0m     eqm1 \u001b[38;5;241m+\u001b[39m\u001b[38;5;241m=\u001b[39m np\u001b[38;5;241m.\u001b[39msum((y_array[i] \u001b[38;5;241m-\u001b[39m last_output) \u001b[38;5;241m*\u001b[39m\u001b[38;5;241m*\u001b[39m \u001b[38;5;241m2\u001b[39m) \u001b[38;5;241m*\u001b[39m \u001b[38;5;241m0.5\u001b[39m\n\u001b[1;32m--> 255\u001b[0m     \u001b[38;5;28;43mself\u001b[39;49m\u001b[38;5;241;43m.\u001b[39;49m\u001b[43mBackward\u001b[49m\u001b[43m(\u001b[49m\u001b[43mamostra\u001b[49m\u001b[43m,\u001b[49m\u001b[43m \u001b[49m\u001b[43my_array\u001b[49m\u001b[43m[\u001b[49m\u001b[43mi\u001b[49m\u001b[43m]\u001b[49m\u001b[43m)\u001b[49m\n\u001b[0;32m    257\u001b[0m eqm1 \u001b[38;5;241m/\u001b[39m\u001b[38;5;241m=\u001b[39m x_matriz\u001b[38;5;241m.\u001b[39mshape[\u001b[38;5;241m1\u001b[39m]\n\u001b[0;32m    259\u001b[0m \u001b[38;5;66;03m# Early stopping baseado no erro\u001b[39;00m\n",
      "File \u001b[1;32mc:\\Users\\henri\\Documents\\pythonProjcs\\cadeira_IA_cirilo\\av3\\trabalho\\classes\\modelos\\mlp\\rede.py:236\u001b[0m, in \u001b[0;36mNeuralNetwork.Backward\u001b[1;34m(self, x_entry, y_true)\u001b[0m\n\u001b[0;32m    234\u001b[0m \u001b[38;5;28;01melse\u001b[39;00m:\n\u001b[0;32m    235\u001b[0m     entrada \u001b[38;5;241m=\u001b[39m x_entry  \u001b[38;5;66;03m# Para a primeira camada, a entrada é x_entry\u001b[39;00m\n\u001b[1;32m--> 236\u001b[0m \u001b[38;5;28;43mself\u001b[39;49m\u001b[38;5;241;43m.\u001b[39;49m\u001b[43majustWeights\u001b[49m\u001b[43m(\u001b[49m\u001b[43mi\u001b[49m\u001b[43m,\u001b[49m\u001b[43m \u001b[49m\u001b[43mentrada\u001b[49m\u001b[43m)\u001b[49m\n",
      "File \u001b[1;32mc:\\Users\\henri\\Documents\\pythonProjcs\\cadeira_IA_cirilo\\av3\\trabalho\\classes\\modelos\\mlp\\rede.py:194\u001b[0m, in \u001b[0;36mNeuralNetwork.ajustWeights\u001b[1;34m(self, i, entrada_peso)\u001b[0m\n\u001b[0;32m    193\u001b[0m \u001b[38;5;28;01mdef\u001b[39;00m \u001b[38;5;21majustWeights\u001b[39m(\u001b[38;5;28mself\u001b[39m, i, entrada_peso):\n\u001b[1;32m--> 194\u001b[0m     \u001b[38;5;28mself\u001b[39m\u001b[38;5;241m.\u001b[39mlayers[i] \u001b[38;5;241m=\u001b[39m \u001b[38;5;28mself\u001b[39m\u001b[38;5;241m.\u001b[39mlayers[i] \u001b[38;5;241m+\u001b[39m \u001b[38;5;28mself\u001b[39m\u001b[38;5;241m.\u001b[39map \u001b[38;5;241m*\u001b[39m (\u001b[38;5;28;43mself\u001b[39;49m\u001b[38;5;241;43m.\u001b[39;49m\u001b[43mdelta\u001b[49m\u001b[43m[\u001b[49m\u001b[43mi\u001b[49m\u001b[43m]\u001b[49m\u001b[43m \u001b[49m\u001b[38;5;241;43m@\u001b[39;49m\u001b[43m \u001b[49m\u001b[43mentrada_peso\u001b[49m\u001b[38;5;241;43m.\u001b[39;49m\u001b[43mT\u001b[49m)\n",
      "\u001b[1;31mValueError\u001b[0m: matmul: Input operand 1 has a mismatch in its core dimension 0, with gufunc signature (n?,k),(k,m?)->(n?,m?) (size 3 is different from 1)"
     ]
    }
   ],
   "source": [
    "dh = DataHandlerMLP(r\"C:\\Users\\henri\\Documents\\pythonProjcs\\cadeira_IA_cirilo\\av3\\trabalho\\dados\\spiral.csv\")\n",
    "train_data, test_data = dh.MonteCarlo()\n",
    "\n",
    "\n",
    "x_tra, y_tra = DataHandlerMLP.SepXY(train_data)\n",
    "x_tes, y_tes = DataHandlerMLP.SepXY(test_data)\n",
    "\n",
    "rede = NeuralNetwork(1e-2, [2,2,1])\n",
    "rede.Train(x_tra, y_tra, min_error=1e-8)\n",
    "output = rede.Predict(x_tes)\n",
    "results = y_tes - output\n"
   ]
  },
  {
   "cell_type": "code",
   "execution_count": 15,
   "metadata": {},
   "outputs": [],
   "source": [
    "dh = DataHandlerMLP(r\"C:\\Users\\henri\\Documents\\pythonProjcs\\cadeira_IA_cirilo\\av3\\trabalho\\dados\\spiral.csv\")\n",
    "train_data, test_data = dh.MonteCarlo()\n",
    "\n",
    "\n",
    "x_tra, y_tra = DataHandlerMLP.SepXY(train_data)\n",
    "x_tes, y_tes = DataHandlerMLP.SepXY(test_data)\n",
    "rede = RN1(1e-2, 2, [2,2, 1])\n",
    "rede.Training(x_tra, y_tra, min_erro=5e-7)\n",
    "output = rede.Predict(x_tes)\n",
    "resul = y_tes - output"
   ]
  },
  {
   "cell_type": "code",
   "execution_count": 16,
   "metadata": {},
   "outputs": [
    {
     "name": "stdout",
     "output_type": "stream",
     "text": [
      "0.7275\n"
     ]
    }
   ],
   "source": [
    "print(len(resul[resul == 0])/len(y_tes))"
   ]
  },
  {
   "cell_type": "code",
   "execution_count": 19,
   "metadata": {},
   "outputs": [],
   "source": [
    "dh = DataHandlerMLP(r\"C:\\Users\\henri\\Documents\\pythonProjcs\\cadeira_IA_cirilo\\av3\\trabalho\\dados\\spiral.csv\")\n",
    "train_data, test_data = dh.MonteCarlo()\n",
    "\n",
    "\n",
    "x_tra, y_tra = DataHandlerMLP.SepXY(train_data)\n",
    "x_tes, y_tes = DataHandlerMLP.SepXY(test_data)\n",
    "rede = RN2(1e-2, 2, [2,2, 1])\n",
    "rede.Training(x_tra, y_tra, min_erro=5e-7)\n",
    "output = rede.Predict(x_tes)\n",
    "resul = y_tes - output"
   ]
  },
  {
   "cell_type": "code",
   "execution_count": 20,
   "metadata": {},
   "outputs": [
    {
     "name": "stdout",
     "output_type": "stream",
     "text": [
      "0.69\n"
     ]
    }
   ],
   "source": [
    "print(len(resul[resul == 0])/len(y_tes))"
   ]
  },
  {
   "cell_type": "code",
   "execution_count": 44,
   "metadata": {},
   "outputs": [],
   "source": [
    "dh = DataHandlerMLP(r\"C:\\Users\\henri\\Documents\\pythonProjcs\\cadeira_IA_cirilo\\av3\\trabalho\\dados\\spiral.csv\")\n",
    "train_data, test_data = dh.MonteCarlo()\n",
    "\n",
    "\n",
    "x_tra, y_tra = DataHandlerMLP.SepXY(train_data)\n",
    "x_tes, y_tes = DataHandlerMLP.SepXY(test_data)"
   ]
  },
  {
   "cell_type": "code",
   "execution_count": 45,
   "metadata": {},
   "outputs": [
    {
     "name": "stdout",
     "output_type": "stream",
     "text": [
      "Treinamento interrompido após 45 épocas devido à falta de melhoria.\n"
     ]
    }
   ],
   "source": [
    "rede = RN1(1e-2, 2, [3,3,3, 1])\n",
    "rede.Training(x_tra, y_tra, min_erro=5e-7)\n",
    "output = rede.Predict(x_tes)\n",
    "resul = y_tes - output"
   ]
  },
  {
   "cell_type": "code",
   "execution_count": 46,
   "metadata": {},
   "outputs": [
    {
     "name": "stdout",
     "output_type": "stream",
     "text": [
      "0.6975\n"
     ]
    }
   ],
   "source": [
    "print(len(resul[resul == 0])/len(y_tes))"
   ]
  },
  {
   "cell_type": "code",
   "execution_count": 53,
   "metadata": {},
   "outputs": [
    {
     "name": "stdout",
     "output_type": "stream",
     "text": [
      "[[-0.52715127 -0.84442802  0.36627047 ...  0.36051785  0.43263786\n",
      "   0.887625  ]\n",
      " [ 0.84977147  0.53566903 -0.93050843 ... -0.93275231 -0.90156779\n",
      "   0.46056689]\n",
      " [-1.         -1.         -1.         ... -1.         -1.\n",
      "  -1.        ]]\n"
     ]
    }
   ],
   "source": [
    "print(x_tra)"
   ]
  },
  {
   "cell_type": "code",
   "execution_count": 67,
   "metadata": {},
   "outputs": [
    {
     "name": "stdout",
     "output_type": "stream",
     "text": [
      "Treinamento interrompido após 47 épocas devido à falta de melhoria.\n"
     ]
    }
   ],
   "source": [
    "rede = RN2(1e-2, 2, [4,4,4,4,4, 1])\n",
    "rede.Training(x_tra, y_tra, min_erro=5e-8)\n",
    "output = rede.Predict(x_tes)\n",
    "resul = y_tes - output"
   ]
  },
  {
   "cell_type": "code",
   "execution_count": 68,
   "metadata": {},
   "outputs": [
    {
     "name": "stdout",
     "output_type": "stream",
     "text": [
      "0.7025\n"
     ]
    }
   ],
   "source": [
    "print(len(resul[resul == 0])/len(y_tes))"
   ]
  },
  {
   "cell_type": "code",
   "execution_count": null,
   "metadata": {},
   "outputs": [],
   "source": [
    "dh = DataHandlerMLP(r\"C:\\Users\\henri\\Documents\\pythonProjcs\\cadeira_IA_cirilo\\av3\\trabalho\\dados\\spiral.csv\")"
   ]
  },
  {
   "cell_type": "code",
   "execution_count": null,
   "metadata": {},
   "outputs": [],
   "source": [
    "training, exp = dh.MonteCarlo()\n"
   ]
  },
  {
   "cell_type": "code",
   "execution_count": 4,
   "metadata": {},
   "outputs": [],
   "source": [
    "x_tra, y_tra = DataHandlerMLP.SepXY(training)\n",
    "x_tes, y_tes = DataHandlerMLP.SepXY(exp)"
   ]
  },
  {
   "cell_type": "code",
   "execution_count": 8,
   "metadata": {},
   "outputs": [
    {
     "name": "stdout",
     "output_type": "stream",
     "text": [
      "[[-0.96317894 -0.5989438  -0.51098025 ...  0.96948093  0.51523824\n",
      "  -0.60469134]\n",
      " [ 0.26886118  0.80079106 -0.85959245 ... -0.24516675 -0.857047\n",
      "   0.79645991]\n",
      " [-1.         -1.         -1.         ... -1.         -1.\n",
      "  -1.        ]]\n"
     ]
    }
   ],
   "source": [
    "print(x_tra)"
   ]
  },
  {
   "cell_type": "code",
   "execution_count": null,
   "metadata": {},
   "outputs": [],
   "source": [
    "rede = RedeNeural(5e-2,2, [4,4,4,1])"
   ]
  },
  {
   "cell_type": "code",
   "execution_count": 34,
   "metadata": {},
   "outputs": [],
   "source": [
    "rede.Training(x_tra, y_tra, min_erro=5e-9)"
   ]
  },
  {
   "cell_type": "code",
   "execution_count": 41,
   "metadata": {},
   "outputs": [],
   "source": [
    "output = rede.Predict(x_tes)"
   ]
  },
  {
   "cell_type": "code",
   "execution_count": 38,
   "metadata": {},
   "outputs": [
    {
     "name": "stdout",
     "output_type": "stream",
     "text": [
      "(1, 400)\n"
     ]
    }
   ],
   "source": [
    "print(output.shape)"
   ]
  },
  {
   "cell_type": "code",
   "execution_count": 42,
   "metadata": {},
   "outputs": [],
   "source": [
    "output = [1 if i > 0 else -1 for i in output.flatten()]\n"
   ]
  },
  {
   "cell_type": "code",
   "execution_count": 11,
   "metadata": {},
   "outputs": [
    {
     "name": "stdout",
     "output_type": "stream",
     "text": [
      "[1, -1, -1, 1, 1, -1, 1, -1, 1, -1, 1, -1, -1, -1, 1, 1, 1, -1, -1, 1, -1, 1, 1, -1, -1, 1, -1, -1, -1, -1, 1, -1, -1, -1, -1, 1, 1, -1, -1, -1, 1, -1, 1, 1, -1, 1, -1, 1, 1, -1, -1, 1, 1, -1, -1, 1, 1, 1, -1, 1, 1, -1, 1, -1, -1, 1, -1, -1, 1, 1, 1, -1, -1, -1, -1, -1, 1, 1, 1, 1, 1, 1, 1, 1, -1, -1, -1, 1, 1, 1, 1, 1, 1, 1, -1, -1, -1, -1, 1, -1, -1, -1, -1, 1, 1, 1, -1, -1, -1, -1, -1, 1, 1, -1, 1, 1, -1, 1, -1, 1, -1, -1, -1, 1, 1, -1, 1, -1, 1, 1, 1, -1, -1, 1, 1, 1, 1, -1, -1, -1, 1, -1, 1, 1, -1, 1, -1, 1, -1, 1, -1, 1, -1, 1, -1, -1, -1, -1, -1, -1, 1, -1, 1, -1, 1, 1, -1, -1, -1, 1, 1, -1, -1, -1, 1, 1, 1, 1, -1, 1, 1, -1, 1, -1, -1, 1, 1, 1, -1, 1, 1, 1, 1, 1, 1, 1, -1, 1, -1, 1, 1, -1, 1, 1, 1, 1, 1, 1, 1, -1, 1, 1, 1, 1, 1, -1, -1, -1, -1, 1, 1, 1, 1, -1, -1, 1, -1, -1, 1, -1, 1, 1, -1, 1, 1, -1, -1, 1, 1, 1, -1, 1, -1, -1, 1, -1, -1, -1, -1, 1, -1, -1, 1, 1, 1, -1, 1, -1, 1, -1, -1, 1, 1, -1, 1, -1, 1, -1, -1, -1, -1, 1, 1, 1, 1, -1, -1, -1, -1, 1, 1, 1, 1, 1, 1, 1, 1, 1, -1, 1, 1, -1, 1, -1, 1, 1, -1, -1, -1, -1, 1, 1, 1, 1, -1, -1, -1, 1, 1, 1, -1, 1, -1, -1, -1, 1, -1, -1, -1, 1, -1, -1, 1, -1, -1, -1, -1, -1, -1, 1, 1, -1, 1, 1, -1, 1, -1, -1, 1, -1, -1, 1, -1, 1, 1, 1, 1, 1, 1, 1, -1, -1, -1, -1, -1, -1, 1, 1, -1, 1, 1, 1, -1, 1, 1, -1, 1, 1, -1, -1, 1, -1, -1, 1, 1, 1, -1, -1, 1, 1, 1, 1, -1, 1, 1, -1, -1, -1, -1, 1, 1, 1, -1, 1, 1, 1, -1, -1, 1, -1]\n"
     ]
    }
   ],
   "source": [
    "print(output)"
   ]
  },
  {
   "cell_type": "code",
   "execution_count": 43,
   "metadata": {},
   "outputs": [
    {
     "name": "stdout",
     "output_type": "stream",
     "text": [
      "0.6925\n"
     ]
    }
   ],
   "source": [
    "teste = y_tes - output\n",
    "print\n",
    "print(len(teste[teste == 0])/len(y_tes))"
   ]
  },
  {
   "cell_type": "code",
   "execution_count": 21,
   "metadata": {},
   "outputs": [
    {
     "name": "stdout",
     "output_type": "stream",
     "text": [
      "2000\n"
     ]
    }
   ],
   "source": [
    "print(dh.amostras)"
   ]
  },
  {
   "cell_type": "code",
   "execution_count": 19,
   "metadata": {},
   "outputs": [
    {
     "name": "stdout",
     "output_type": "stream",
     "text": [
      "[[ 3  6  9]\n",
      " [ 6 12 18]]\n"
     ]
    }
   ],
   "source": [
    "dados = np.array(\n",
    "[    [1,2,3],\n",
    "    [1,2,3],\n",
    "    [1,2,3]]\n",
    ")\n",
    "\n",
    "print(dados[:, :2].T @ dados)"
   ]
  },
  {
   "cell_type": "code",
   "execution_count": null,
   "metadata": {},
   "outputs": [],
   "source": []
  }
 ],
 "metadata": {
  "kernelspec": {
   "display_name": "ia_2024",
   "language": "python",
   "name": "python3"
  },
  "language_info": {
   "codemirror_mode": {
    "name": "ipython",
    "version": 3
   },
   "file_extension": ".py",
   "mimetype": "text/x-python",
   "name": "python",
   "nbconvert_exporter": "python",
   "pygments_lexer": "ipython3",
   "version": "3.12.4"
  }
 },
 "nbformat": 4,
 "nbformat_minor": 2
}
